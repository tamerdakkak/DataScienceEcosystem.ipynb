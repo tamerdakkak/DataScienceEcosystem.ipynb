{
 "cells": [
  {
   "cell_type": "markdown",
   "id": "78eed2af-84bc-41c2-b64e-accb299766cc",
   "metadata": {},
   "source": [
    "Data Science Tools and Ecosystem"
   ]
  },
  {
   "cell_type": "markdown",
   "id": "20c73ef0-2620-4e94-892f-9a99c5a57137",
   "metadata": {},
   "source": [
    "In this notebook, Data Science Tools and Ecosystem are summarized."
   ]
  },
  {
   "cell_type": "markdown",
   "id": "756eea03-e20d-4c45-b14d-913153afd65a",
   "metadata": {},
   "source": [
    "Some of the popular languages that Data Scientists use are:"
   ]
  },
  {
   "cell_type": "markdown",
   "id": "8c9ef014-4467-4487-a54d-d5e9d80bfaa6",
   "metadata": {},
   "source": [
    "1. Python.\n",
    "2. R.\n",
    "3. SQL.\n",
    "4. Java."
   ]
  },
  {
   "cell_type": "markdown",
   "id": "cf1446b8-12cb-4aac-a8c5-d6e044c808da",
   "metadata": {},
   "source": [
    "Some of the commonly used libraries used by Data Scientists include:\n",
    "\n",
    "  1.  TensorFlow.\n",
    "  2. NumPy.\n",
    "  3. SciPy.\n",
    "  4. Pandas."
   ]
  },
  {
   "cell_type": "markdown",
   "id": "8e620f52-f89b-4010-a5d9-42d36f7d2169",
   "metadata": {},
   "source": [
    "|Data Science Tools| \n",
    "|---|\n",
    "|SAS|\n",
    "|Apache Hadoop| \n",
    "|TensorFlow| "
   ]
  },
  {
   "cell_type": "markdown",
   "id": "c8e05ff8-c047-4baa-a018-1d8996b5e223",
   "metadata": {},
   "source": [
    "### Below are a few examples of evaluating arithmetic expressions in Python\n",
    "\n",
    "\n",
    "\n"
   ]
  },
  {
   "cell_type": "code",
   "execution_count": 1,
   "id": "f2951fef-0341-4050-8ab1-0cab377ca3d2",
   "metadata": {
    "tags": []
   },
   "outputs": [
    {
     "data": {
      "text/plain": [
       "17"
      ]
     },
     "execution_count": 1,
     "metadata": {},
     "output_type": "execute_result"
    }
   ],
   "source": [
    "\n",
    "\n",
    "#This a simple arithmetic expression to mutiply then add integers\n",
    "\n",
    "(3*4)+5\n"
   ]
  },
  {
   "cell_type": "code",
   "execution_count": 2,
   "id": "6db12bdb-57e3-4cdc-a54d-a13c5edf1683",
   "metadata": {
    "tags": []
   },
   "outputs": [
    {
     "data": {
      "text/plain": [
       "3.3333333333333335"
      ]
     },
     "execution_count": 2,
     "metadata": {},
     "output_type": "execute_result"
    }
   ],
   "source": [
    "#This will convert 200 minutes to hours by diving by 60\n",
    "\n",
    "200/60 "
   ]
  },
  {
   "cell_type": "markdown",
   "id": "327a7a8c-1987-483f-a11d-266ef0ea06ea",
   "metadata": {},
   "source": [
    "### Objectives \n",
    "\n",
    ". List popular languages used in Data Science\n",
    ". List Commonly used libraries by data scientists\n",
    ". Examples of evaluating arithmetic expressions"
   ]
  },
  {
   "cell_type": "markdown",
   "id": "0012a2a8-3544-4cd5-a1b2-ba27a36d0c7b",
   "metadata": {},
   "source": [
    "## Author : Tamer Dakkak"
   ]
  },
  {
   "cell_type": "code",
   "execution_count": null,
   "id": "add22cf3-1024-4be1-af17-a4c95f4f3f1a",
   "metadata": {},
   "outputs": [],
   "source": []
  }
 ],
 "metadata": {
  "kernelspec": {
   "display_name": "Python",
   "language": "python",
   "name": "conda-env-python-py"
  },
  "language_info": {
   "codemirror_mode": {
    "name": "ipython",
    "version": 3
   },
   "file_extension": ".py",
   "mimetype": "text/x-python",
   "name": "python",
   "nbconvert_exporter": "python",
   "pygments_lexer": "ipython3",
   "version": "3.7.12"
  }
 },
 "nbformat": 4,
 "nbformat_minor": 5
}
